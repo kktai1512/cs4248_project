{
 "cells": [
  {
   "metadata": {},
   "cell_type": "markdown",
   "source": [
    "# Distilbert-base-cased without cleaning/preprocessing\n",
    "(baseline)\n",
    "Note that not all the cells in this notebook has outputs shown, because it is converted to an `.py` file and run in the SoC slurm clusters, then the model and results are copied back. But the notebook can be run here."
   ],
   "id": "a83362c9e6357d"
  },
  {
   "cell_type": "code",
   "id": "d5485fad853c651b",
   "metadata": {
    "collapsed": false,
    "ExecuteTime": {
     "end_time": "2024-04-18T13:26:48.940445Z",
     "start_time": "2024-04-18T13:26:42.123167Z"
    }
   },
   "source": [
    "import torch\n",
    "\n",
    "torch.cuda.empty_cache()\n",
    "\n",
    "import gc\n",
    "\n",
    "gc.collect()"
   ],
   "outputs": [
    {
     "data": {
      "text/plain": [
       "0"
      ]
     },
     "execution_count": 1,
     "metadata": {},
     "output_type": "execute_result"
    }
   ],
   "execution_count": 1
  },
  {
   "cell_type": "code",
   "source": [
    "SAVE_LOCATION = \"results_distilbert-base-cased\""
   ],
   "metadata": {
    "collapsed": false,
    "ExecuteTime": {
     "end_time": "2024-04-18T13:26:48.960509Z",
     "start_time": "2024-04-18T13:26:48.944595Z"
    }
   },
   "id": "46a08742c365f2f",
   "outputs": [],
   "execution_count": 2
  },
  {
   "cell_type": "code",
   "id": "initial_id",
   "metadata": {
    "collapsed": true,
    "jupyter": {
     "outputs_hidden": true
    },
    "ExecuteTime": {
     "end_time": "2024-04-18T13:26:50.002040Z",
     "start_time": "2024-04-18T13:26:48.960509Z"
    }
   },
   "source": [
    "import pandas as pd\n",
    "from io import StringIO\n",
    "\n",
    "with open(\"raw_data/xtrain.txt\", \"r\") as file:\n",
    "    data = file.read()\n",
    "\n",
    "text_stream = StringIO(data)\n",
    "\n",
    "df = pd.read_csv(text_stream, sep='\\t', header=None, names=['labels', 'text'])"
   ],
   "outputs": [],
   "execution_count": 3
  },
  {
   "cell_type": "code",
   "execution_count": null,
   "id": "c111a3eb20207539",
   "metadata": {
    "collapsed": false
   },
   "outputs": [],
   "source": [
    "balanced_test = pd.read_csv(\"raw_data/balancedtest.csv\", names=['labels', 'text'])"
   ]
  },
  {
   "cell_type": "code",
   "execution_count": null,
   "id": "3873fbebdd91f37f",
   "metadata": {
    "collapsed": false
   },
   "outputs": [],
   "source": [
    "balanced_test[\"labels\"] -= 1\n",
    "df[\"labels\"] -= 1"
   ]
  },
  {
   "cell_type": "code",
   "execution_count": null,
   "id": "e6ea76d3e767f6eb",
   "metadata": {
    "collapsed": false
   },
   "outputs": [],
   "source": [
    "from transformers import AutoTokenizer\n",
    "\n",
    "tokenizer = AutoTokenizer.from_pretrained(\"distilbert/distilbert-base-cased\")"
   ]
  },
  {
   "cell_type": "code",
   "execution_count": null,
   "id": "dc5fd4467820883b",
   "metadata": {
    "collapsed": false
   },
   "outputs": [],
   "source": [
    "def preprocess_function(examples):\n",
    "    return tokenizer(\n",
    "        examples[\"text\"],\n",
    "        truncation=True,\n",
    "        max_length=512,\n",
    "        padding=\"max_length\",\n",
    "        return_tensors=\"pt\"\n",
    "    )"
   ]
  },
  {
   "cell_type": "code",
   "execution_count": null,
   "id": "40d32c73194912c0",
   "metadata": {
    "collapsed": false
   },
   "outputs": [],
   "source": [
    "from datasets import Dataset\n",
    "\n",
    "df_dataset = Dataset.from_pandas(df)"
   ]
  },
  {
   "cell_type": "code",
   "execution_count": null,
   "id": "26e3ddbbda9b3fd7",
   "metadata": {
    "collapsed": false,
    "is_executing": true
   },
   "outputs": [],
   "source": [
    "tokenized_df = df_dataset.map(preprocess_function, batched=True)"
   ]
  },
  {
   "cell_type": "code",
   "execution_count": null,
   "id": "2cbc582ece2a320f",
   "metadata": {
    "collapsed": false,
    "is_executing": true
   },
   "outputs": [],
   "source": [
    "from transformers import DataCollatorWithPadding, DataCollator\n",
    "\n",
    "data_collator = DataCollatorWithPadding(tokenizer)"
   ]
  },
  {
   "cell_type": "code",
   "execution_count": null,
   "id": "87fafc41f15c5de5",
   "metadata": {
    "collapsed": false,
    "is_executing": true
   },
   "outputs": [],
   "source": [
    "import numpy as np\n",
    "from transformers import EvalPrediction\n",
    "import torch\n",
    "from sklearn.metrics import accuracy_score, precision_recall_fscore_support\n",
    "\n",
    "\n",
    "def compute_metrics(p: EvalPrediction):\n",
    "    predictions, labels = p\n",
    "    predictions = np.argmax(predictions, axis=1)\n",
    "    precision, recall, f1, _ = precision_recall_fscore_support(labels, predictions, average=\"macro\")\n",
    "    accuracy = accuracy_score(labels, predictions)\n",
    "    return {\n",
    "        \"accuracy\": accuracy,\n",
    "        \"f1\": f1,\n",
    "        \"precision\": precision,\n",
    "        \"recall\": recall\n",
    "    }"
   ]
  },
  {
   "cell_type": "code",
   "execution_count": null,
   "id": "94fb3f7dfd0be214",
   "metadata": {
    "collapsed": false,
    "is_executing": true
   },
   "outputs": [],
   "source": [
    "id2label = {0: \"0\", 1: \"1\", 2: \"2\", 3: \"3\"}\n",
    "label2id = {v: k for k, v in id2label.items()}"
   ]
  },
  {
   "cell_type": "code",
   "execution_count": null,
   "id": "fc3ae82e94cb765e",
   "metadata": {
    "collapsed": false,
    "is_executing": true
   },
   "outputs": [],
   "source": [
    "from transformers import AutoModelForSequenceClassification, TrainingArguments, Trainer\n",
    "\n",
    "model = AutoModelForSequenceClassification.from_pretrained(\n",
    "    \"distilbert/distilbert-base-cased\", num_labels=4, id2label=id2label, label2id=label2id\n",
    ")"
   ]
  },
  {
   "cell_type": "code",
   "execution_count": null,
   "id": "90c937baf720cb58",
   "metadata": {
    "collapsed": false,
    "is_executing": true
   },
   "outputs": [],
   "source": [
    "test_df = Dataset.from_pandas(balanced_test)\n",
    "tokenized_test_df = test_df.map(preprocess_function, batched=True)\n"
   ]
  },
  {
   "cell_type": "code",
   "execution_count": null,
   "id": "d46491d910068bb",
   "metadata": {
    "collapsed": false,
    "is_executing": true
   },
   "outputs": [],
   "source": [
    "training_args = TrainingArguments(\n",
    "    output_dir=\"results\",\n",
    "    # learning_rate=5e-5,\n",
    "    per_device_train_batch_size=8,\n",
    "    per_device_eval_batch_size=8,\n",
    "    num_train_epochs=4,\n",
    "    evaluation_strategy=\"epoch\",\n",
    "    save_strategy=\"epoch\",\n",
    "\n",
    "    logging_dir=\"logs\",\n",
    "    logging_steps=100,\n",
    "\n",
    "    load_best_model_at_end=True,\n",
    "    metric_for_best_model=\"f1\",\n",
    ")\n",
    "\n",
    "trainer = Trainer(\n",
    "    model=model,\n",
    "    args=training_args,\n",
    "    train_dataset=tokenized_df,\n",
    "    eval_dataset=tokenized_test_df,\n",
    "    tokenizer=tokenizer,\n",
    "    data_collator=data_collator,\n",
    "    compute_metrics=compute_metrics\n",
    ")"
   ]
  },
  {
   "cell_type": "code",
   "execution_count": null,
   "id": "7d6a09687487420a",
   "metadata": {
    "collapsed": false,
    "is_executing": true
   },
   "outputs": [],
   "source": [
    "trainer.train()"
   ]
  },
  {
   "cell_type": "code",
   "execution_count": null,
   "id": "dfc319cd8de279f8",
   "metadata": {
    "collapsed": false,
    "is_executing": true
   },
   "outputs": [],
   "source": [
    "trainer.evaluate()"
   ]
  },
  {
   "cell_type": "code",
   "execution_count": 29,
   "id": "b507388f2c535ba4",
   "metadata": {
    "collapsed": false,
    "ExecuteTime": {
     "end_time": "2024-03-25T02:18:04.624760Z",
     "start_time": "2024-03-25T02:18:04.126731Z"
    }
   },
   "outputs": [
    {
     "name": "stderr",
     "output_type": "stream",
     "text": [
      "Saving model checkpoint to results\n",
      "Configuration saved in results\\config.json\n",
      "Model weights saved in results\\pytorch_model.bin\n",
      "tokenizer config file saved in results\\tokenizer_config.json\n",
      "Special tokens file saved in results\\special_tokens_map.json\n",
      "tokenizer config file saved in results\\tokenizer_config.json\n",
      "Special tokens file saved in results\\special_tokens_map.json\n"
     ]
    },
    {
     "data": {
      "text/plain": "('results\\\\tokenizer_config.json',\n 'results\\\\special_tokens_map.json',\n 'results\\\\vocab.txt',\n 'results\\\\added_tokens.json',\n 'results\\\\tokenizer.json')"
     },
     "execution_count": 29,
     "metadata": {},
     "output_type": "execute_result"
    }
   ],
   "source": [
    "trainer.save_model(SAVE_LOCATION)\n",
    "tokenizer.save_pretrained(SAVE_LOCATION)"
   ]
  },
  {
   "cell_type": "code",
   "execution_count": 30,
   "id": "b614ed94c700d082",
   "metadata": {
    "collapsed": false,
    "ExecuteTime": {
     "end_time": "2024-03-25T02:18:04.640627Z",
     "start_time": "2024-03-25T02:18:04.629990Z"
    }
   },
   "outputs": [],
   "source": [
    "# trainer.push_to_hub()"
   ]
  },
  {
   "cell_type": "code",
   "execution_count": 40,
   "id": "c3a1b1db6ebe89b6",
   "metadata": {
    "collapsed": false,
    "ExecuteTime": {
     "end_time": "2024-03-25T05:10:00.942062Z",
     "start_time": "2024-03-25T05:09:58.032791Z"
    }
   },
   "outputs": [
    {
     "name": "stderr",
     "output_type": "stream",
     "text": [
      "loading configuration file results/config.json\n",
      "Model config DistilBertConfig {\n",
      "  \"_name_or_path\": \"results/\",\n",
      "  \"activation\": \"gelu\",\n",
      "  \"architectures\": [\n",
      "    \"DistilBertForSequenceClassification\"\n",
      "  ],\n",
      "  \"attention_dropout\": 0.1,\n",
      "  \"dim\": 768,\n",
      "  \"dropout\": 0.1,\n",
      "  \"hidden_dim\": 3072,\n",
      "  \"id2label\": {\n",
      "    \"0\": \"0\",\n",
      "    \"1\": \"1\",\n",
      "    \"2\": \"2\",\n",
      "    \"3\": \"3\"\n",
      "  },\n",
      "  \"initializer_range\": 0.02,\n",
      "  \"label2id\": {\n",
      "    \"0\": 0,\n",
      "    \"1\": 1,\n",
      "    \"2\": 2,\n",
      "    \"3\": 3\n",
      "  },\n",
      "  \"max_position_embeddings\": 512,\n",
      "  \"model_type\": \"distilbert\",\n",
      "  \"n_heads\": 12,\n",
      "  \"n_layers\": 6,\n",
      "  \"output_past\": true,\n",
      "  \"pad_token_id\": 0,\n",
      "  \"problem_type\": \"single_label_classification\",\n",
      "  \"qa_dropout\": 0.1,\n",
      "  \"seq_classif_dropout\": 0.2,\n",
      "  \"sinusoidal_pos_embds\": false,\n",
      "  \"tie_weights_\": true,\n",
      "  \"torch_dtype\": \"float32\",\n",
      "  \"transformers_version\": \"4.24.0\",\n",
      "  \"vocab_size\": 28996\n",
      "}\n",
      "\n",
      "loading weights file results/pytorch_model.bin\n",
      "All model checkpoint weights were used when initializing DistilBertForSequenceClassification.\n",
      "\n",
      "All the weights of DistilBertForSequenceClassification were initialized from the model checkpoint at results/.\n",
      "If your task is similar to the task the model of the checkpoint was trained on, you can already use DistilBertForSequenceClassification for predictions without further training.\n",
      "loading file vocab.txt\n",
      "loading file tokenizer.json\n",
      "loading file added_tokens.json\n",
      "loading file special_tokens_map.json\n",
      "loading file tokenizer_config.json\n"
     ]
    }
   ],
   "source": [
    "loaded_model = AutoModelForSequenceClassification.from_pretrained(f\"{SAVE_LOCATION}/\")\n",
    "loaded_tokenizer = AutoTokenizer.from_pretrained(f\"{SAVE_LOCATION}/\")"
   ]
  },
  {
   "cell_type": "code",
   "execution_count": 41,
   "id": "2a75df583389ee13",
   "metadata": {
    "collapsed": false,
    "ExecuteTime": {
     "end_time": "2024-03-25T05:10:03.673129Z",
     "start_time": "2024-03-25T05:10:03.546786Z"
    }
   },
   "outputs": [],
   "source": [
    "from transformers import pipeline\n",
    "\n",
    "classifier = pipeline(\"text-classification\",\n",
    "                      model=loaded_model,\n",
    "                      tokenizer=loaded_tokenizer, max_length=512,\n",
    "                      truncation=True,\n",
    "                      device_map=\"auto\",\n",
    "                      )"
   ]
  },
  {
   "cell_type": "code",
   "execution_count": 42,
   "id": "3ac06f3e4424d3e3",
   "metadata": {
    "collapsed": false,
    "ExecuteTime": {
     "end_time": "2024-03-25T05:10:06.155554Z",
     "start_time": "2024-03-25T05:10:06.134906Z"
    }
   },
   "outputs": [
    {
     "data": {
      "text/plain": "Dataset({\n    features: ['labels', 'text'],\n    num_rows: 3000\n})"
     },
     "execution_count": 42,
     "metadata": {},
     "output_type": "execute_result"
    }
   ],
   "source": [
    "test_df"
   ]
  },
  {
   "cell_type": "code",
   "execution_count": 43,
   "id": "38b8b79d2db9e1e0",
   "metadata": {
    "collapsed": false,
    "ExecuteTime": {
     "end_time": "2024-03-25T05:34:33.321761Z",
     "start_time": "2024-03-25T05:10:08.469391Z"
    }
   },
   "outputs": [
    {
     "name": "stderr",
     "output_type": "stream",
     "text": [
      "100%|██████████| 3000/3000 [24:24<00:00,  2.05it/s]\n"
     ]
    }
   ],
   "source": [
    "from tqdm import tqdm\n",
    "from transformers.pipelines.base import KeyDataset\n",
    "\n",
    "results = []\n",
    "short_df = test_df  # .select(range(10))\n",
    "for out in tqdm(classifier(KeyDataset(short_df, \"text\"))):\n",
    "    extracted_label = out[\"label\"][-1]\n",
    "    results.append(extracted_label)"
   ]
  },
  {
   "cell_type": "code",
   "execution_count": 47,
   "id": "6fd2e2abab495b7c",
   "metadata": {
    "collapsed": false,
    "ExecuteTime": {
     "end_time": "2024-03-25T05:35:33.877094Z",
     "start_time": "2024-03-25T05:35:33.853900Z"
    }
   },
   "outputs": [
    {
     "name": "stdout",
     "output_type": "stream",
     "text": [
      "      0\n",
      "0     0\n",
      "1     0\n",
      "2     0\n",
      "3     3\n",
      "4     0\n",
      "...  ..\n",
      "2995  3\n",
      "2996  3\n",
      "2997  3\n",
      "2998  3\n",
      "2999  3\n",
      "\n",
      "[3000 rows x 1 columns]\n"
     ]
    }
   ],
   "source": [
    "predicted_results_df = pd.DataFrame(results)\n",
    "predicted_results_df.to_csv(f\"{SAVE_LOCATION}/predicted_results.csv\", index=False)\n",
    "print(predicted_results_df)"
   ]
  },
  {
   "cell_type": "code",
   "execution_count": 48,
   "id": "2638f92ced264cdc",
   "metadata": {
    "collapsed": false,
    "ExecuteTime": {
     "end_time": "2024-03-25T05:35:37.919256Z",
     "start_time": "2024-03-25T05:35:37.805042Z"
    }
   },
   "outputs": [
    {
     "name": "stdout",
     "output_type": "stream",
     "text": [
      "              precision    recall  f1-score   support\n",
      "\n",
      "           0       0.91      0.86      0.88       750\n",
      "           1       0.93      0.65      0.76       750\n",
      "           2       0.07      0.03      0.04       750\n",
      "           3       0.49      0.98      0.66       750\n",
      "\n",
      "    accuracy                           0.63      3000\n",
      "   macro avg       0.60      0.63      0.58      3000\n",
      "weighted avg       0.60      0.63      0.58      3000\n"
     ]
    }
   ],
   "source": [
    "from sklearn.metrics import classification_report\n",
    "\n",
    "label_str = balanced_test[\"labels\"].astype(str)\n",
    "clf_report = classification_report(label_str, predicted_results_df)\n",
    "print(clf_report)\n"
   ]
  },
  {
   "metadata": {},
   "cell_type": "code",
   "outputs": [],
   "execution_count": null,
   "source": [
    "\"\"\"\n",
    "Output:\n",
    "\n",
    "              precision    recall  f1-score   support\n",
    "\n",
    "           0       0.91      0.86      0.88       750\n",
    "           1       0.93      0.65      0.76       750\n",
    "           2       0.07      0.03      0.04       750\n",
    "           3       0.49      0.98      0.66       750\n",
    "\n",
    "    accuracy                           0.63      3000\n",
    "   macro avg       0.60      0.63      0.58      3000\n",
    "weighted avg       0.60      0.63      0.58      3000\n",
    "\n",
    "\"\"\""
   ],
   "id": "ec2cf96f7526dbcb"
  },
  {
   "metadata": {
    "ExecuteTime": {
     "end_time": "2024-04-11T04:47:12.205584Z",
     "start_time": "2024-04-11T04:47:11.817051Z"
    }
   },
   "cell_type": "code",
   "source": [
    "import pandas as pd\n",
    "from sklearn.metrics import confusion_matrix, ConfusionMatrixDisplay\n",
    "\n",
    "balanced_test = pd.read_csv(\"raw_data/balancedtest.csv\", names=['labels', 'text'])\n",
    "pred_results = pd.read_csv(\"results_distilbert-base-cased/predicted_results.csv\")\n",
    "\n",
    "balanced_test.labels -= 1\n",
    "\n",
    "cm = confusion_matrix(balanced_test[\"labels\"].astype(int), pred_results.astype(int))\n",
    "ConfusionMatrixDisplay(cm).plot()\n"
   ],
   "id": "a4ae985fa842effc",
   "outputs": [
    {
     "data": {
      "text/plain": [
       "<sklearn.metrics._plot.confusion_matrix.ConfusionMatrixDisplay at 0x1a83456f430>"
      ]
     },
     "execution_count": 3,
     "metadata": {},
     "output_type": "execute_result"
    },
    {
     "data": {
      "text/plain": [
       "<Figure size 640x480 with 2 Axes>"
      ],
      "image/png": "[encoded data removed]"
     },
     "metadata": {},
     "output_type": "display_data"
    }
   ],
   "execution_count": 3
  }
 ],
 "metadata": {
  "kernelspec": {
   "display_name": "Python 3 (ipykernel)",
   "language": "python",
   "name": "python3"
  },
  "language_info": {
   "codemirror_mode": {
    "name": "ipython",
    "version": 3
   },
   "file_extension": ".py",
   "mimetype": "text/x-python",
   "name": "python",
   "nbconvert_exporter": "python",
   "pygments_lexer": "ipython3",
   "version": "3.10.13"
  }
 },
 "nbformat": 4,
 "nbformat_minor": 5
}
