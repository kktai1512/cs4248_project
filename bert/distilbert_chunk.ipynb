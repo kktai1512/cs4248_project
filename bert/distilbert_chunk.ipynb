{
 "cells": [
  {
   "metadata": {},
   "cell_type": "markdown",
   "source": [
    "# Distilbert with chunking\n",
    "Note that not all the cells in this notebook has outputs shown, because it is converted to an `.py` file and run in the SoC slurm clusters, then the model and results are copied back. But the notebook can be run here.\n",
    "\n",
    "\n",
    "This notebook requires this package from this branch to be installed to the python env\n",
    "https://github.com/mim-solutions/bert_for_longer_texts/tree/add-multiclass-support\n",
    "\n",
    "This notebook adapts code from the above repository (licensed under MIT license, license reproduced below)"
   ],
   "id": "63b9bfef70f18d36"
  },
  {
   "metadata": {},
   "cell_type": "markdown",
   "source": [
    "The MIT License (MIT)\n",
    "\n",
    "Copyright (c) 2023 MIM SOLUTIONS Sp. z o.o.\n",
    "\n",
    "Initial project authors:\n",
    "Michał Brzozowski, Marek Wachnicki\n",
    "\n",
    "Permission is hereby granted, free of charge, to any person obtaining a copy\n",
    "of this software and associated documentation files (the \"Software\"), to deal\n",
    "in the Software without restriction, including without limitation the rights\n",
    "to use, copy, modify, merge, publish, distribute, sublicense, and/or sell\n",
    "copies of the Software, and to permit persons to whom the Software is\n",
    "furnished to do so, subject to the following conditions:\n",
    "\n",
    "The above copyright notice and this permission notice shall be included in all\n",
    "copies or substantial portions of the Software.\n",
    "\n",
    "THE SOFTWARE IS PROVIDED \"AS IS\", WITHOUT WARRANTY OF ANY KIND, EXPRESS OR\n",
    "IMPLIED, INCLUDING BUT NOT LIMITED TO THE WARRANTIES OF MERCHANTABILITY,\n",
    "FITNESS FOR A PARTICULAR PURPOSE AND NONINFRINGEMENT. IN NO EVENT SHALL THE\n",
    "AUTHORS OR COPYRIGHT HOLDERS BE LIABLE FOR ANY CLAIM, DAMAGES OR OTHER\n",
    "LIABILITY, WHETHER IN AN ACTION OF CONTRACT, TORT OR OTHERWISE, ARISING FROM,\n",
    "OUT OF OR IN CONNECTION WITH THE SOFTWARE OR THE USE OR OTHER DEALINGS IN THE\n",
    "SOFTWARE."
   ],
   "id": "62b37bc92222851f"
  },
  {
   "cell_type": "code",
   "id": "d5485fad853c651b",
   "metadata": {
    "collapsed": false
   },
   "source": [
    "import string\n",
    "\n",
    "import torch\n",
    "\n",
    "torch.cuda.empty_cache()\n",
    "\n",
    "import gc\n",
    "\n",
    "gc.collect()"
   ],
   "outputs": [],
   "execution_count": null
  },
  {
   "metadata": {},
   "cell_type": "code",
   "source": "",
   "id": "9fe1e9f2ef9a52f9",
   "outputs": [],
   "execution_count": null
  },
  {
   "metadata": {},
   "cell_type": "code",
   "source": "import swifter",
   "id": "268bfde6733fde04",
   "outputs": [],
   "execution_count": null
  },
  {
   "cell_type": "code",
   "source": [
    "SAVE_LOCATION = \"results_distilbert_sliding_window_beltmulti\"\n",
    "\n",
    "from pathlib import Path\n",
    "\n",
    "Path(SAVE_LOCATION).mkdir(parents=True, exist_ok=True)"
   ],
   "metadata": {
    "collapsed": false
   },
   "id": "46a08742c365f2f",
   "outputs": [],
   "execution_count": null
  },
  {
   "metadata": {},
   "cell_type": "code",
   "source": [
    "import pandas as pd\n",
    "from io import StringIO\n",
    "\n",
    "with open(\"raw_data/xtrain.txt\", \"r\") as file:\n",
    "    data = file.read()\n",
    "\n",
    "text_stream = StringIO(data)\n",
    "\n",
    "df = pd.read_csv(text_stream, sep='\\t', header=None, names=['labels', 'text'])"
   ],
   "id": "e16ecc52fda8fff1",
   "outputs": [],
   "execution_count": null
  },
  {
   "metadata": {},
   "cell_type": "code",
   "source": [
    "with open(\"raw_data/xdev.txt\", \"r\") as file:\n",
    "    data = file.read()\n",
    "\n",
    "text_stream = StringIO(data)\n",
    "\n",
    "val = pd.read_csv(text_stream, sep='\\t', header=None, names=['labels', 'text'])"
   ],
   "id": "e52e31a1aa28cfe6",
   "outputs": [],
   "execution_count": null
  },
  {
   "metadata": {},
   "cell_type": "code",
   "source": "balanced_test = pd.read_csv(\"raw_data/balancedtest.csv\", names=['labels', 'text'])",
   "id": "cf502de7980e28b",
   "outputs": [],
   "execution_count": null
  },
  {
   "metadata": {},
   "cell_type": "code",
   "source": [
    "df['labels'] -= 1\n",
    "val['labels'] -= 1\n",
    "balanced_test['labels'] -= 1"
   ],
   "id": "746abd43da4c48",
   "outputs": [],
   "execution_count": null
  },
  {
   "metadata": {},
   "cell_type": "code",
   "source": [
    "import re\n",
    "\n",
    "\n",
    "def clean_text(text):\n",
    "    pattern = r'(?<=[a-z])(?=[A-Z][a-z])'\n",
    "    text = re.sub(pattern, ' ', text)\n",
    "\n",
    "    return text\n"
   ],
   "id": "2ac55c14a7434579",
   "outputs": [],
   "execution_count": null
  },
  {
   "cell_type": "code",
   "source": [
    "def text_preprocess(text: str):\n",
    "    cleaned_text = clean_text(text)\n",
    "    return cleaned_text"
   ],
   "metadata": {
    "collapsed": false
   },
   "id": "3c631326aa432345",
   "outputs": [],
   "execution_count": null
  },
  {
   "cell_type": "code",
   "source": [
    "df_cleaned_text = df[\"text\"].swifter.apply(text_preprocess)\n",
    "df[\"text\"] = df_cleaned_text\n",
    "\n",
    "val_cleaned_text = val[\"text\"].swifter.apply(text_preprocess)\n",
    "val[\"text\"] = val_cleaned_text\n",
    "\n",
    "bt_cleaned_text = balanced_test[\"text\"].swifter.apply(text_preprocess)\n",
    "balanced_test[\"text\"] = bt_cleaned_text"
   ],
   "metadata": {
    "collapsed": false
   },
   "id": "a103c23427913fc5",
   "outputs": [],
   "execution_count": null
  },
  {
   "metadata": {},
   "cell_type": "code",
   "source": [
    "from datasets import load_dataset\n",
    "import numpy as np"
   ],
   "id": "7334582266b61e07",
   "outputs": [],
   "execution_count": null
  },
  {
   "metadata": {},
   "cell_type": "code",
   "source": [
    "from belt_nlp.bert_classifier_with_pooling import BertClassifierWithPooling\n",
    "\n",
    "MODEL_PARAMS = {\n",
    "    \"batch_size\": 2,\n",
    "    \"learning_rate\": 5e-5,\n",
    "    \"epochs\": 3,\n",
    "    \"chunk_size\": 510,\n",
    "    \"stride\": 450,\n",
    "    \"minimal_chunk_length\": 64,\n",
    "    \"pooling_strategy\": \"mean\",\n",
    "    \"device\": \"cuda\",\n",
    "    \"num_labels\": 4,\n",
    "    \"pretrained_model_name_or_path\": \"distilbert/distilbert-base-cased\"\n",
    "\n",
    "}\n",
    "model = BertClassifierWithPooling(**MODEL_PARAMS)"
   ],
   "id": "72d1cf40337af221",
   "outputs": [],
   "execution_count": null
  },
  {
   "metadata": {},
   "cell_type": "code",
   "source": "model.fit(df[\"text\"], df[\"labels\"], epochs=3)  #  Warning about tokeninizing too long text is expected",
   "id": "4e7df861bf4b93fa",
   "outputs": [],
   "execution_count": null
  },
  {
   "metadata": {},
   "cell_type": "code",
   "source": [
    "preds = model.predict(balanced_test[\"text\"])\n",
    "probabilities = model.predict_scores(balanced_test[\"text\"])"
   ],
   "id": "6aefddefc13c5227",
   "outputs": [],
   "execution_count": null
  },
  {
   "metadata": {},
   "cell_type": "code",
   "source": "balanced_test[\"pred\"] = preds",
   "id": "c80dcd606c681085",
   "outputs": [],
   "execution_count": null
  },
  {
   "metadata": {},
   "cell_type": "code",
   "source": "balanced_test.to_csv(f\"{SAVE_LOCATION}/predicted_results.csv\", index=False)",
   "id": "578155038666f8be",
   "outputs": [],
   "execution_count": null
  },
  {
   "metadata": {},
   "cell_type": "code",
   "source": [
    "from sklearn.metrics import classification_report\n",
    "\n",
    "cr = classification_report(balanced_test[\"labels\"].astype(str), balanced_test[\"pred\"].astype(str))\n",
    "\n",
    "print(cr)"
   ],
   "id": "475726cec6daaf97",
   "outputs": [],
   "execution_count": null
  },
  {
   "cell_type": "code",
   "source": [
    "from sklearn.metrics import confusion_matrix\n",
    "\n",
    "cm = confusion_matrix(balanced_test[\"labels\"].astype(str), balanced_test[\"pred\"].astype(str))\n",
    "print(cm)"
   ],
   "metadata": {
    "collapsed": false
   },
   "id": "3befabb893946bee",
   "outputs": [],
   "execution_count": null
  },
  {
   "metadata": {},
   "cell_type": "code",
   "source": [
    "from sklearn.metrics import ConfusionMatrixDisplay\n",
    "\n",
    "cmd = ConfusionMatrixDisplay(cm)\n",
    "cmd.plot()\n"
   ],
   "id": "97831117b2c76055",
   "outputs": [],
   "execution_count": null
  }
 ],
 "metadata": {
  "kernelspec": {
   "display_name": "Python 3 (ipykernel)",
   "language": "python",
   "name": "python3"
  },
  "language_info": {
   "codemirror_mode": {
    "name": "ipython",
    "version": 3
   },
   "file_extension": ".py",
   "mimetype": "text/x-python",
   "name": "python",
   "nbconvert_exporter": "python",
   "pygments_lexer": "ipython3",
   "version": "3.10.13"
  }
 },
 "nbformat": 4,
 "nbformat_minor": 5
}
