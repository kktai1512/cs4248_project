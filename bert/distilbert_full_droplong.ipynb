{
 "cells": [
  {
   "metadata": {},
   "cell_type": "markdown",
   "source": [
    "# Distilbert-base-cased, dropping tokens beyond 512 words\n",
    "\n",
    "Note that not all the cells in this notebook has outputs shown, because it is converted to an `.py` file and run in the SoC slurm clusters, then the model and results are copied back. But the notebook can be run here."
   ],
   "id": "21053f42becf7f5a"
  },
  {
   "cell_type": "code",
   "execution_count": 6,
   "id": "d5485fad853c651b",
   "metadata": {
    "collapsed": false,
    "ExecuteTime": {
     "end_time": "2024-04-04T08:12:08.823922Z",
     "start_time": "2024-04-04T08:12:00.882406Z"
    }
   },
   "outputs": [
    {
     "data": {
      "text/plain": "0"
     },
     "execution_count": 6,
     "metadata": {},
     "output_type": "execute_result"
    }
   ],
   "source": [
    "import string\n",
    "\n",
    "import torch\n",
    "\n",
    "torch.cuda.empty_cache()\n",
    "\n",
    "import gc\n",
    "\n",
    "gc.collect()"
   ]
  },
  {
   "cell_type": "code",
   "outputs": [],
   "source": [
    "SAVE_LOCATION = \"results_distilbert_full_droplong\"\n",
    "\n",
    "from pathlib import Path\n",
    "\n",
    "Path(SAVE_LOCATION).mkdir(parents=True, exist_ok=True)"
   ],
   "metadata": {
    "collapsed": false,
    "ExecuteTime": {
     "end_time": "2024-04-04T08:12:08.838952Z",
     "start_time": "2024-04-04T08:12:08.829920Z"
    }
   },
   "id": "46a08742c365f2f",
   "execution_count": 7
  },
  {
   "cell_type": "code",
   "execution_count": 8,
   "id": "d2f11a4fa43cf3ee",
   "metadata": {
    "collapsed": false,
    "ExecuteTime": {
     "end_time": "2024-04-04T08:12:13.157790Z",
     "start_time": "2024-04-04T08:12:08.843359Z"
    }
   },
   "outputs": [
    {
     "name": "stderr",
     "output_type": "stream",
     "text": [
      "C:\\Users\\Ian\\miniconda3\\envs\\CS4248\\lib\\site-packages\\dask\\dataframe\\_pyarrow_compat.py:17: FutureWarning: Minimal version of pyarrow will soon be increased to 14.0.1. You are using 11.0.0. Please consider upgrading.\n",
      "  warnings.warn(\n",
      "[nltk_data] Downloading package punkt to\n",
      "[nltk_data]     C:\\Users\\Ian\\AppData\\Roaming\\nltk_data...\n",
      "[nltk_data]   Package punkt is already up-to-date!\n"
     ]
    },
    {
     "data": {
      "text/plain": "True"
     },
     "execution_count": 8,
     "metadata": {},
     "output_type": "execute_result"
    }
   ],
   "source": [
    "import nltk\n",
    "import swifter\n",
    "import string\n",
    "import pandas as pd\n",
    "import numpy as np\n",
    "\n",
    "nltk.download(\"punkt\")"
   ]
  },
  {
   "cell_type": "code",
   "outputs": [],
   "source": [
    "df = pd.read_csv('raw_data/fulltrain.csv', names=[\"labels\", \"text\"])\n",
    "balanced_test = pd.read_csv('raw_data/balancedtest.csv', names=[\"labels\", \"text\"])"
   ],
   "metadata": {
    "collapsed": true,
    "jupyter": {
     "outputs_hidden": true
    },
    "ExecuteTime": {
     "end_time": "2024-04-04T08:12:15.861972Z",
     "start_time": "2024-04-04T08:12:13.160988Z"
    }
   },
   "id": "initial_id",
   "execution_count": 9
  },
  {
   "cell_type": "code",
   "outputs": [
    {
     "data": {
      "text/plain": "Pandas Apply:   0%|          | 0/48854 [00:00<?, ?it/s]",
      "application/vnd.jupyter.widget-view+json": {
       "version_major": 2,
       "version_minor": 0,
       "model_id": "111fe2992a6e4bbd954e3d26206ec7d5"
      }
     },
     "metadata": {},
     "output_type": "display_data"
    }
   ],
   "source": [
    "def text_preprocess(text: str):\n",
    "    tokens = nltk.word_tokenize(text)\n",
    "    tokens = [word for word in tokens if word not in string.punctuation]\n",
    "    length = len(tokens)\n",
    "    return pd.Series({\"text\": text, \"len\": len(tokens)})\n",
    "\n",
    "\n",
    "text_and_len = df[\"text\"].swifter.apply(text_preprocess)\n",
    "df.drop(\"text\", axis=1, inplace=True)\n",
    "df = pd.concat([df, text_and_len], axis=1)"
   ],
   "metadata": {
    "collapsed": false,
    "ExecuteTime": {
     "end_time": "2024-04-04T08:18:12.279158Z",
     "start_time": "2024-04-04T08:12:15.868873Z"
    }
   },
   "id": "3c631326aa432345",
   "execution_count": 10
  },
  {
   "cell_type": "code",
   "execution_count": 11,
   "id": "251dfbbf2e0458f3",
   "metadata": {
    "collapsed": false,
    "ExecuteTime": {
     "end_time": "2024-04-04T08:18:12.310357Z",
     "start_time": "2024-04-04T08:18:12.287202Z"
    }
   },
   "outputs": [],
   "source": [
    "df[\"labels\"] -= 1\n",
    "balanced_test[\"labels\"] -= 1"
   ]
  },
  {
   "cell_type": "code",
   "execution_count": 12,
   "id": "d60228b894fbb94c",
   "metadata": {
    "collapsed": false,
    "ExecuteTime": {
     "end_time": "2024-04-04T08:18:12.372745Z",
     "start_time": "2024-04-04T08:18:12.314261Z"
    }
   },
   "outputs": [
    {
     "data": {
      "text/plain": "       labels                                               text  len\n0           0  A little less than a decade ago, hockey fans w...  146\n1           0  The writers of the HBO series The Sopranos too...  124\n2           0  Despite claims from the TV news outlet to offe...  711\n3           0  After receiving 'subpar' service and experienc...  716\n4           0  After watching his beloved Seattle Mariners pr...  178\n...       ...                                                ...  ...\n48849       3  The ruling Kuomintang (KMT) has claimed owners...  632\n48850       3  The Taipei city government has encouraged the ...  277\n48851       3  President Ma Ying-jeou said Friday that a park...  410\n48852       3  The families of the four people who were kille...  246\n48853       3  The Ministry of Finance will make public on Sa...  118\n\n[48854 rows x 3 columns]",
      "text/html": "<div>\n<style scoped>\n    .dataframe tbody tr th:only-of-type {\n        vertical-align: middle;\n    }\n\n    .dataframe tbody tr th {\n        vertical-align: top;\n    }\n\n    .dataframe thead th {\n        text-align: right;\n    }\n</style>\n<table border=\"1\" class=\"dataframe\">\n  <thead>\n    <tr style=\"text-align: right;\">\n      <th></th>\n      <th>labels</th>\n      <th>text</th>\n      <th>len</th>\n    </tr>\n  </thead>\n  <tbody>\n    <tr>\n      <th>0</th>\n      <td>0</td>\n      <td>A little less than a decade ago, hockey fans w...</td>\n      <td>146</td>\n    </tr>\n    <tr>\n      <th>1</th>\n      <td>0</td>\n      <td>The writers of the HBO series The Sopranos too...</td>\n      <td>124</td>\n    </tr>\n    <tr>\n      <th>2</th>\n      <td>0</td>\n      <td>Despite claims from the TV news outlet to offe...</td>\n      <td>711</td>\n    </tr>\n    <tr>\n      <th>3</th>\n      <td>0</td>\n      <td>After receiving 'subpar' service and experienc...</td>\n      <td>716</td>\n    </tr>\n    <tr>\n      <th>4</th>\n      <td>0</td>\n      <td>After watching his beloved Seattle Mariners pr...</td>\n      <td>178</td>\n    </tr>\n    <tr>\n      <th>...</th>\n      <td>...</td>\n      <td>...</td>\n      <td>...</td>\n    </tr>\n    <tr>\n      <th>48849</th>\n      <td>3</td>\n      <td>The ruling Kuomintang (KMT) has claimed owners...</td>\n      <td>632</td>\n    </tr>\n    <tr>\n      <th>48850</th>\n      <td>3</td>\n      <td>The Taipei city government has encouraged the ...</td>\n      <td>277</td>\n    </tr>\n    <tr>\n      <th>48851</th>\n      <td>3</td>\n      <td>President Ma Ying-jeou said Friday that a park...</td>\n      <td>410</td>\n    </tr>\n    <tr>\n      <th>48852</th>\n      <td>3</td>\n      <td>The families of the four people who were kille...</td>\n      <td>246</td>\n    </tr>\n    <tr>\n      <th>48853</th>\n      <td>3</td>\n      <td>The Ministry of Finance will make public on Sa...</td>\n      <td>118</td>\n    </tr>\n  </tbody>\n</table>\n<p>48854 rows × 3 columns</p>\n</div>"
     },
     "execution_count": 12,
     "metadata": {},
     "output_type": "execute_result"
    }
   ],
   "source": [
    "df"
   ]
  },
  {
   "cell_type": "code",
   "outputs": [
    {
     "data": {
      "text/plain": "Pandas Apply:   0%|          | 0/3000 [00:00<?, ?it/s]",
      "application/vnd.jupyter.widget-view+json": {
       "version_major": 2,
       "version_minor": 0,
       "model_id": "25908272dbb2447d92ba05bb415fb274"
      }
     },
     "metadata": {},
     "output_type": "display_data"
    },
    {
     "data": {
      "text/plain": "      labels                                               text  len\n0          0  When so many actors seem content to churn out ...  251\n1          0   In what football insiders are calling an unex...  202\n2          0  In a freak accident following Game 3 of the N....  167\n3          0  North Koreas official news agency announced to...  134\n4          0  The former Alaska Governor Sarah Palin would b...  177\n...      ...                                                ...  ...\n2995       3  The Air Force mistakenly gave rival companies ...  591\n2996       3  The United Nations climate chief on Friday cha...  351\n2997       3  River Plate midfielder Diego Buonanotte has un...   98\n2998       3  Lawmakers were on the brink Tuesday of exempti...  622\n2999       3  The Pentagon, which is processing bids on a ne...  441\n\n[3000 rows x 3 columns]",
      "text/html": "<div>\n<style scoped>\n    .dataframe tbody tr th:only-of-type {\n        vertical-align: middle;\n    }\n\n    .dataframe tbody tr th {\n        vertical-align: top;\n    }\n\n    .dataframe thead th {\n        text-align: right;\n    }\n</style>\n<table border=\"1\" class=\"dataframe\">\n  <thead>\n    <tr style=\"text-align: right;\">\n      <th></th>\n      <th>labels</th>\n      <th>text</th>\n      <th>len</th>\n    </tr>\n  </thead>\n  <tbody>\n    <tr>\n      <th>0</th>\n      <td>0</td>\n      <td>When so many actors seem content to churn out ...</td>\n      <td>251</td>\n    </tr>\n    <tr>\n      <th>1</th>\n      <td>0</td>\n      <td>In what football insiders are calling an unex...</td>\n      <td>202</td>\n    </tr>\n    <tr>\n      <th>2</th>\n      <td>0</td>\n      <td>In a freak accident following Game 3 of the N....</td>\n      <td>167</td>\n    </tr>\n    <tr>\n      <th>3</th>\n      <td>0</td>\n      <td>North Koreas official news agency announced to...</td>\n      <td>134</td>\n    </tr>\n    <tr>\n      <th>4</th>\n      <td>0</td>\n      <td>The former Alaska Governor Sarah Palin would b...</td>\n      <td>177</td>\n    </tr>\n    <tr>\n      <th>...</th>\n      <td>...</td>\n      <td>...</td>\n      <td>...</td>\n    </tr>\n    <tr>\n      <th>2995</th>\n      <td>3</td>\n      <td>The Air Force mistakenly gave rival companies ...</td>\n      <td>591</td>\n    </tr>\n    <tr>\n      <th>2996</th>\n      <td>3</td>\n      <td>The United Nations climate chief on Friday cha...</td>\n      <td>351</td>\n    </tr>\n    <tr>\n      <th>2997</th>\n      <td>3</td>\n      <td>River Plate midfielder Diego Buonanotte has un...</td>\n      <td>98</td>\n    </tr>\n    <tr>\n      <th>2998</th>\n      <td>3</td>\n      <td>Lawmakers were on the brink Tuesday of exempti...</td>\n      <td>622</td>\n    </tr>\n    <tr>\n      <th>2999</th>\n      <td>3</td>\n      <td>The Pentagon, which is processing bids on a ne...</td>\n      <td>441</td>\n    </tr>\n  </tbody>\n</table>\n<p>3000 rows × 3 columns</p>\n</div>"
     },
     "execution_count": 15,
     "metadata": {},
     "output_type": "execute_result"
    }
   ],
   "source": [
    "text_and_len2 = balanced_test[\"text\"].swifter.apply(text_preprocess)\n",
    "balanced_test.drop(\"text\", axis=1, inplace=True)\n",
    "balanced_test = pd.concat([balanced_test, text_and_len2], axis=1)\n",
    "balanced_test"
   ],
   "metadata": {
    "collapsed": false,
    "ExecuteTime": {
     "end_time": "2024-04-04T08:18:35.904583Z",
     "start_time": "2024-04-04T08:18:12.603043Z"
    }
   },
   "id": "3792a2456393caac",
   "execution_count": 15
  },
  {
   "cell_type": "code",
   "outputs": [
    {
     "data": {
      "text/plain": "labels\n2    17870\n0    14047\n3     9995\n1     6942\nName: count, dtype: int64"
     },
     "execution_count": 16,
     "metadata": {},
     "output_type": "execute_result"
    }
   ],
   "source": [
    "df[\"labels\"].value_counts()"
   ],
   "metadata": {
    "collapsed": false,
    "ExecuteTime": {
     "end_time": "2024-04-04T08:18:35.936256Z",
     "start_time": "2024-04-04T08:18:35.908111Z"
    }
   },
   "id": "2ce46f05ba79c1fb",
   "execution_count": 16
  },
  {
   "cell_type": "code",
   "outputs": [
    {
     "data": {
      "text/plain": "labels\n0    10331\n2     7012\n1     6913\n3     6697\nName: count, dtype: int64"
     },
     "execution_count": 20,
     "metadata": {},
     "output_type": "execute_result"
    }
   ],
   "source": [
    "df_dropped = df.drop(df[df.len > 512].index)\n",
    "df_dropped.labels.value_counts()"
   ],
   "metadata": {
    "collapsed": false,
    "ExecuteTime": {
     "end_time": "2024-04-04T08:18:36.060860Z",
     "start_time": "2024-04-04T08:18:36.033646Z"
    }
   },
   "id": "1ebe2d73f7fc28ab",
   "execution_count": 20
  },
  {
   "cell_type": "code",
   "outputs": [],
   "source": [
    "df = df_dropped"
   ],
   "metadata": {
    "collapsed": false,
    "ExecuteTime": {
     "end_time": "2024-04-04T08:18:36.076351Z",
     "start_time": "2024-04-04T08:18:36.064817Z"
    }
   },
   "id": "63c3f8ce2509237b",
   "execution_count": 21
  },
  {
   "cell_type": "code",
   "outputs": [
    {
     "data": {
      "text/plain": "labels\n0    746\n1    489\n3    375\n2    181\nName: count, dtype: int64"
     },
     "execution_count": 22,
     "metadata": {},
     "output_type": "execute_result"
    }
   ],
   "source": [
    "balanced_test_dropped = balanced_test.drop(balanced_test[balanced_test.len > 512].index)\n",
    "balanced_test_dropped.labels.value_counts()"
   ],
   "metadata": {
    "collapsed": false,
    "ExecuteTime": {
     "end_time": "2024-04-04T08:18:36.107009Z",
     "start_time": "2024-04-04T08:18:36.080347Z"
    }
   },
   "id": "dc77d90f2b653c7a",
   "execution_count": 22
  },
  {
   "cell_type": "code",
   "outputs": [],
   "source": [
    "balanced_test = balanced_test_dropped"
   ],
   "metadata": {
    "collapsed": false,
    "ExecuteTime": {
     "end_time": "2024-04-04T08:18:36.121697Z",
     "start_time": "2024-04-04T08:18:36.110674Z"
    }
   },
   "id": "6f6d7cdc78378d09",
   "execution_count": 23
  },
  {
   "cell_type": "code",
   "execution_count": 24,
   "id": "e6ea76d3e767f6eb",
   "metadata": {
    "collapsed": false,
    "ExecuteTime": {
     "end_time": "2024-04-04T08:18:46.560616Z",
     "start_time": "2024-04-04T08:18:36.125228Z"
    }
   },
   "outputs": [],
   "source": [
    "from transformers import AutoTokenizer\n",
    "\n",
    "tokenizer = AutoTokenizer.from_pretrained(\"distilbert/distilbert-base-cased\")"
   ]
  },
  {
   "cell_type": "code",
   "execution_count": 25,
   "id": "dc5fd4467820883b",
   "metadata": {
    "collapsed": false,
    "ExecuteTime": {
     "end_time": "2024-04-04T08:18:46.576622Z",
     "start_time": "2024-04-04T08:18:46.565065Z"
    }
   },
   "outputs": [],
   "source": [
    "def preprocess_function(examples):\n",
    "    return tokenizer(\n",
    "        examples[\"text\"],\n",
    "        truncation=True,\n",
    "        max_length=512,\n",
    "        padding=\"max_length\",\n",
    "        return_tensors=\"pt\"\n",
    "    )"
   ]
  },
  {
   "cell_type": "code",
   "execution_count": 26,
   "id": "40d32c73194912c0",
   "metadata": {
    "collapsed": false,
    "ExecuteTime": {
     "end_time": "2024-04-04T08:18:47.418195Z",
     "start_time": "2024-04-04T08:18:46.579658Z"
    }
   },
   "outputs": [],
   "source": [
    "from datasets import Dataset\n",
    "\n",
    "df_dataset = Dataset.from_pandas(df)"
   ]
  },
  {
   "cell_type": "code",
   "execution_count": 27,
   "id": "26e3ddbbda9b3fd7",
   "metadata": {
    "collapsed": false,
    "ExecuteTime": {
     "end_time": "2024-04-04T08:19:04.941786Z",
     "start_time": "2024-04-04T08:18:47.425064Z"
    }
   },
   "outputs": [
    {
     "data": {
      "text/plain": "Map:   0%|          | 0/30953 [00:00<?, ? examples/s]",
      "application/vnd.jupyter.widget-view+json": {
       "version_major": 2,
       "version_minor": 0,
       "model_id": "810200f51fdd4f67bccadf8643adee5c"
      }
     },
     "metadata": {},
     "output_type": "display_data"
    }
   ],
   "source": [
    "tokenized_df = df_dataset.map(preprocess_function, batched=True)"
   ]
  },
  {
   "cell_type": "code",
   "execution_count": 28,
   "id": "c9bfbf359eb55359",
   "metadata": {
    "collapsed": false,
    "ExecuteTime": {
     "end_time": "2024-04-04T08:19:04.963287Z",
     "start_time": "2024-04-04T08:19:04.947815Z"
    }
   },
   "outputs": [
    {
     "data": {
      "text/plain": "Dataset({\n    features: ['labels', 'text', 'len', '__index_level_0__', 'input_ids', 'attention_mask'],\n    num_rows: 30953\n})"
     },
     "execution_count": 28,
     "metadata": {},
     "output_type": "execute_result"
    }
   ],
   "source": [
    "tokenized_df"
   ]
  },
  {
   "cell_type": "code",
   "execution_count": 29,
   "id": "2cbc582ece2a320f",
   "metadata": {
    "collapsed": false,
    "ExecuteTime": {
     "end_time": "2024-04-04T08:19:05.009747Z",
     "start_time": "2024-04-04T08:19:04.969190Z"
    }
   },
   "outputs": [],
   "source": [
    "from transformers import DataCollatorWithPadding, DataCollator\n",
    "\n",
    "data_collator = DataCollatorWithPadding(tokenizer)"
   ]
  },
  {
   "cell_type": "code",
   "outputs": [],
   "source": [
    "import numpy as np\n",
    "from transformers import EvalPrediction\n",
    "import torch\n",
    "from sklearn.metrics import accuracy_score, precision_recall_fscore_support\n",
    "\n",
    "\n",
    "def compute_metrics(p: EvalPrediction):\n",
    "    predictions, labels = p\n",
    "    predictions = np.argmax(predictions, axis=1)\n",
    "    precision, recall, f1, _ = precision_recall_fscore_support(labels, predictions, average=\"macro\")\n",
    "    accuracy = accuracy_score(labels, predictions)\n",
    "    return {\n",
    "        \"accuracy\": accuracy,\n",
    "        \"f1\": f1,\n",
    "        \"precision\": precision,\n",
    "        \"recall\": recall\n",
    "    }"
   ],
   "metadata": {
    "collapsed": false
   },
   "id": "6e3ff8b55150a68b",
   "execution_count": null
  },
  {
   "cell_type": "code",
   "execution_count": 33,
   "id": "94fb3f7dfd0be214",
   "metadata": {
    "collapsed": false,
    "ExecuteTime": {
     "end_time": "2024-04-04T08:19:12.213385Z",
     "start_time": "2024-04-04T08:19:12.202387Z"
    }
   },
   "outputs": [],
   "source": [
    "id2label = {0: \"0\", 1: \"1\", 2: \"2\", 3: \"3\"}\n",
    "label2id = {v: k for k, v in id2label.items()}"
   ]
  },
  {
   "cell_type": "code",
   "execution_count": 34,
   "id": "fc3ae82e94cb765e",
   "metadata": {
    "collapsed": false,
    "ExecuteTime": {
     "end_time": "2024-04-04T08:19:19.772127Z",
     "start_time": "2024-04-04T08:19:12.217448Z"
    }
   },
   "outputs": [
    {
     "name": "stderr",
     "output_type": "stream",
     "text": [
      "Some weights of the model checkpoint at distilbert/distilbert-base-cased were not used when initializing DistilBertForSequenceClassification: ['vocab_transform.weight', 'vocab_transform.bias', 'vocab_projector.bias', 'vocab_layer_norm.weight', 'vocab_layer_norm.bias']\n",
      "- This IS expected if you are initializing DistilBertForSequenceClassification from the checkpoint of a model trained on another task or with another architecture (e.g. initializing a BertForSequenceClassification model from a BertForPreTraining model).\n",
      "- This IS NOT expected if you are initializing DistilBertForSequenceClassification from the checkpoint of a model that you expect to be exactly identical (initializing a BertForSequenceClassification model from a BertForSequenceClassification model).\n",
      "Some weights of DistilBertForSequenceClassification were not initialized from the model checkpoint at distilbert/distilbert-base-cased and are newly initialized: ['classifier.bias', 'pre_classifier.bias', 'pre_classifier.weight', 'classifier.weight']\n",
      "You should probably TRAIN this model on a down-stream task to be able to use it for predictions and inference.\n"
     ]
    }
   ],
   "source": [
    "from transformers import AutoModelForSequenceClassification, TrainingArguments, Trainer\n",
    "\n",
    "model = AutoModelForSequenceClassification.from_pretrained(\n",
    "    \"distilbert/distilbert-base-cased\", num_labels=4, id2label=id2label, label2id=label2id\n",
    ")"
   ]
  },
  {
   "cell_type": "code",
   "execution_count": 35,
   "id": "90c937baf720cb58",
   "metadata": {
    "collapsed": false,
    "ExecuteTime": {
     "end_time": "2024-04-04T08:19:21.038655Z",
     "start_time": "2024-04-04T08:19:19.777190Z"
    }
   },
   "outputs": [
    {
     "data": {
      "text/plain": "Map:   0%|          | 0/1791 [00:00<?, ? examples/s]",
      "application/vnd.jupyter.widget-view+json": {
       "version_major": 2,
       "version_minor": 0,
       "model_id": "76d50760c2bd419fa1dd3345a88bd420"
      }
     },
     "metadata": {},
     "output_type": "display_data"
    }
   ],
   "source": [
    "test_df = Dataset.from_pandas(balanced_test)\n",
    "tokenized_test_df = test_df.map(preprocess_function, batched=True)\n"
   ]
  },
  {
   "cell_type": "code",
   "outputs": [],
   "source": [
    "training_args = TrainingArguments(\n",
    "\n",
    "    output_dir=SAVE_LOCATION,\n",
    "    # learning_rate=5e-5,\n",
    "    per_device_train_batch_size=8,\n",
    "    per_device_eval_batch_size=8,\n",
    "    num_train_epochs=4,\n",
    "    # weight_decay=0.01,\n",
    "    evaluation_strategy=\"epoch\",\n",
    "    save_strategy=\"epoch\",\n",
    "\n",
    "    logging_dir=\"logs\",\n",
    "    logging_steps=100,\n",
    "\n",
    "    load_best_model_at_end=True,\n",
    "    metric_for_best_model=\"f1\",\n",
    ")\n",
    "\n",
    "trainer = Trainer(\n",
    "    model=model,\n",
    "    args=training_args,\n",
    "    train_dataset=tokenized_df,\n",
    "    eval_dataset=tokenized_test_df,\n",
    "    tokenizer=tokenizer,\n",
    "    data_collator=data_collator,\n",
    "    compute_metrics=compute_metrics\n",
    ")"
   ],
   "metadata": {
    "collapsed": false
   },
   "id": "4e00ecf75bae1a5e",
   "execution_count": null
  },
  {
   "cell_type": "code",
   "outputs": [],
   "source": [
    "trainer.train()"
   ],
   "metadata": {
    "collapsed": false
   },
   "id": "570dae55fa0f28c8",
   "execution_count": null
  },
  {
   "cell_type": "code",
   "execution_count": null,
   "id": "dfc319cd8de279f8",
   "metadata": {
    "collapsed": false
   },
   "outputs": [],
   "source": [
    "trainer.evaluate()"
   ]
  },
  {
   "cell_type": "code",
   "execution_count": null,
   "id": "b507388f2c535ba4",
   "metadata": {
    "collapsed": false
   },
   "outputs": [],
   "source": [
    "trainer.save_model(SAVE_LOCATION)\n",
    "tokenizer.save_pretrained(SAVE_LOCATION)"
   ]
  },
  {
   "cell_type": "code",
   "execution_count": null,
   "id": "c3a1b1db6ebe89b6",
   "metadata": {
    "collapsed": false
   },
   "outputs": [],
   "source": [
    "loaded_model = AutoModelForSequenceClassification.from_pretrained(f\"{SAVE_LOCATION}/\")\n",
    "loaded_tokenizer = AutoTokenizer.from_pretrained(f\"{SAVE_LOCATION}/\")"
   ]
  },
  {
   "cell_type": "code",
   "execution_count": null,
   "id": "2a75df583389ee13",
   "metadata": {
    "collapsed": false
   },
   "outputs": [],
   "source": [
    "from transformers import pipeline\n",
    "\n",
    "classifier = pipeline(\"text-classification\",\n",
    "                      model=loaded_model,\n",
    "                      tokenizer=loaded_tokenizer, max_length=512,\n",
    "                      truncation=True,\n",
    "                      device_map=\"auto\",\n",
    "                      )"
   ]
  },
  {
   "metadata": {},
   "cell_type": "markdown",
   "source": "# Predicting on the balanced test set",
   "id": "cb1bc57b9f361b98"
  },
  {
   "metadata": {},
   "cell_type": "code",
   "outputs": [],
   "execution_count": null,
   "source": [
    "balanced_test = pd.read_csv('raw_data/balancedtest.csv', names=[\"labels\", \"text\"])\n",
    "balanced_test[\"labels\"] -= 1\n"
   ],
   "id": "772afe4828469664"
  },
  {
   "metadata": {},
   "cell_type": "code",
   "outputs": [],
   "execution_count": null,
   "source": [
    "from tqdm import tqdm\n",
    "from transformers.pipelines.base import KeyDataset\n",
    "from datasets import Dataset\n",
    "\n",
    "\n",
    "def get_results(df: pd.DataFrame) -> pd.Series:\n",
    "    results = []\n",
    "    test_df = Dataset.from_pandas(df)\n",
    "    for out in tqdm(classifier(KeyDataset(test_df, \"text\"))):\n",
    "        extracted_label = out[\"label\"]\n",
    "        results.append(extracted_label)\n",
    "    return pd.Series(results)\n",
    "\n"
   ],
   "id": "c31dc94dbbc8dacf"
  },
  {
   "metadata": {},
   "cell_type": "code",
   "outputs": [],
   "execution_count": null,
   "source": [
    "# without dropping long\n",
    "baseline = get_results(balanced_test)"
   ],
   "id": "ebb1908eb98c388e"
  },
  {
   "cell_type": "code",
   "execution_count": null,
   "id": "6fd2e2abab495b7c",
   "metadata": {
    "collapsed": false
   },
   "outputs": [],
   "source": [
    "from sklearn.metrics import classification_report\n",
    "\n",
    "report_baseline = classification_report(balanced_test[\"labels\"], baseline.astype(int))\n",
    "print(report_baseline)"
   ]
  },
  {
   "metadata": {},
   "cell_type": "markdown",
   "source": [
    "\"\"\"\n",
    "              precision    recall  f1-score   support\n",
    "\n",
    "           0       0.86      0.91      0.88       750\n",
    "           1       0.94      0.84      0.89       750\n",
    "           2       0.05      0.01      0.01       750\n",
    "           3       0.51      0.96      0.66       750\n",
    "\n",
    "    accuracy                           0.68      3000\n",
    "   macro avg       0.59      0.68      0.61      3000\n",
    "weighted avg       0.59      0.68      0.61      3000\n",
    "\"\"\""
   ],
   "id": "d7723464c61d5ad1"
  },
  {
   "metadata": {
    "ExecuteTime": {
     "end_time": "2024-04-11T04:31:50.755384Z",
     "start_time": "2024-04-11T04:31:50.511309Z"
    }
   },
   "cell_type": "code",
   "source": [
    "from sklearn.metrics import confusion_matrix, ConfusionMatrixDisplay\n",
    "\n",
    "cm = confusion_matrix(balanced_test[\"labels\"].astype(int), balanced_test[\"pred\"].astype(int))\n",
    "ConfusionMatrixDisplay(cm).plot()"
   ],
   "id": "62849c41de8843cf",
   "outputs": [
    {
     "data": {
      "text/plain": [
       "<sklearn.metrics._plot.confusion_matrix.ConfusionMatrixDisplay at 0x1ad94a209d0>"
      ]
     },
     "execution_count": 39,
     "metadata": {},
     "output_type": "execute_result"
    },
    {
     "data": {
      "text/plain": [
       "<Figure size 640x480 with 2 Axes>"
      ],
      "image/png": "[encoded data removed]"
     },
     "metadata": {},
     "output_type": "display_data"
    }
   ],
   "execution_count": 39
  },
  {
   "metadata": {},
   "cell_type": "markdown",
   "source": "",
   "id": "9cc43bed1024d28d"
  }
 ],
 "metadata": {
  "kernelspec": {
   "display_name": "Python 3 (ipykernel)",
   "language": "python",
   "name": "python3"
  },
  "language_info": {
   "codemirror_mode": {
    "name": "ipython",
    "version": 3
   },
   "file_extension": ".py",
   "mimetype": "text/x-python",
   "name": "python",
   "nbconvert_exporter": "python",
   "pygments_lexer": "ipython3",
   "version": "3.10.13"
  }
 },
 "nbformat": 4,
 "nbformat_minor": 5
}
